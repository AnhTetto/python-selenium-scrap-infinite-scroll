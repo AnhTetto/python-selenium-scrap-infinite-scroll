{
 "cells": [
  {
   "cell_type": "code",
   "execution_count": null,
   "metadata": {},
   "outputs": [],
   "source": [
    "import re\n",
    "import requests\n",
    "import pandas \n",
    "import scrapy\n",
    "import numpy as np"
   ]
  },
  {
   "cell_type": "code",
   "execution_count": null,
   "metadata": {},
   "outputs": [],
   "source": [
    "sub_url_1 = \"https://bocongan.gov.vn/khung-bo/bai-viet-to-chuc-khung-bo/ly-lich-ca-nhan-15-doi-tuong-la-thanh-vien-cua-to-chuc-khung-bo-chinh-phu-quoc-gia-viet-nam-lam-thoi-11.html\"\n"
   ]
  },
  {
   "cell_type": "code",
   "execution_count": null,
   "metadata": {},
   "outputs": [],
   "source": [
    "from typing import Iterable\n",
    "\n",
    "\n",
    "from scrapy.http import Request\n",
    "\n",
    "\n",
    "class DemoSpider(scrapy.Spider):\n",
    "    name = 'demo'   \n",
    "    def start_requests(self) -> Iterable[Request]:\n",
    "        urls = [sub_url_1]\n",
    "        for url in urls:    \n",
    "            yield scrapy.Request(url=url, callback=self.parse)\n",
    "\n",
    "    def parse(self, response):\n",
    "        page = response.url.split('/')[-2]\n",
    "        "
   ]
  },
  {
   "cell_type": "code",
   "execution_count": null,
   "metadata": {},
   "outputs": [],
   "source": []
  },
  {
   "cell_type": "code",
   "execution_count": null,
   "metadata": {},
   "outputs": [],
   "source": []
  },
  {
   "cell_type": "code",
   "execution_count": null,
   "metadata": {},
   "outputs": [],
   "source": []
  }
 ],
 "metadata": {
  "kernelspec": {
   "display_name": "scrap",
   "language": "python",
   "name": "python3"
  },
  "language_info": {
   "name": "python",
   "version": "3.10.13"
  }
 },
 "nbformat": 4,
 "nbformat_minor": 2
}

{
 "cells": [
  {
   "cell_type": "code",
   "execution_count": 1,
   "metadata": {},
   "outputs": [],
   "source": [
    "from datetime import datetime, timedelta\n",
    "import time"
   ]
  },
  {
   "cell_type": "code",
   "execution_count": 9,
   "metadata": {},
   "outputs": [
    {
     "name": "stdout",
     "output_type": "stream",
     "text": [
      "No scheduled update needed. Next update on (GMT+07): 2024-01-13 01:00:00\n"
     ]
    }
   ],
   "source": [
    "def update_data_scheduled(update_interval_hours=24):\n",
    "    # Get the current time in GMT+7\n",
    "    current_time_gmt7 = datetime.utcnow() + timedelta(hours=7)\n",
    "\n",
    "    # Check if it's Saturday and the current hour is 1 AM\n",
    "    is_saturday = current_time_gmt7.weekday() == 5  # Saturday is represented by 5\n",
    "    is_1_am = current_time_gmt7.hour == 1\n",
    "\n",
    "\n",
    "    # Check if the current time satisfies the conditions for an update\n",
    "    # return is_saturday and is_1_am and should_update_data(last_update_time, update_interval_hours * 60 * 60)\n",
    "    if is_saturday and is_1_am:\n",
    "        next_update_time = current_time_gmt7 + timedelta(hours=update_interval_hours)\n",
    "        return True, next_update_time\n",
    "    else:\n",
    "        # If not, calculate the next scheduled update time\n",
    "        next_saturday = current_time_gmt7 + timedelta(days=(5 - current_time_gmt7.weekday()) % 7)\n",
    "        next_update_time = datetime(next_saturday.year, next_saturday.month, next_saturday.day, 1, 0, 0)\n",
    "        return False, next_update_time\n",
    "\n",
    "# Check if it's time to update based on the scheduled conditions\n",
    "is_it_time_for_update, next_update_time =  update_data_scheduled()\n",
    "if is_it_time_for_update:    \n",
    "    # Perform the update\n",
    "    print(\"Performing scheduled update.\")\n",
    "    # ... Your update logic here ...\n",
    "    last_update_time_scheduled = time.time()\n",
    "else:\n",
    "    print(\"No scheduled update needed. Next update on (GMT+07):\", next_update_time)\n",
    "\n",
    "# Repeat this process as needed for other data updates"
   ]
  }
 ],
 "metadata": {
  "kernelspec": {
   "display_name": "ragLLM",
   "language": "python",
   "name": "python3"
  },
  "language_info": {
   "codemirror_mode": {
    "name": "ipython",
    "version": 3
   },
   "file_extension": ".py",
   "mimetype": "text/x-python",
   "name": "python",
   "nbconvert_exporter": "python",
   "pygments_lexer": "ipython3",
   "version": "3.10.13"
  }
 },
 "nbformat": 4,
 "nbformat_minor": 2
}
